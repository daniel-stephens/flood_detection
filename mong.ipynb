{
 "cells": [
  {
   "cell_type": "code",
   "execution_count": 10,
   "metadata": {},
   "outputs": [],
   "source": [
    "import cv2\n",
    "from pytesseract import pytesseract\n",
    "import glob\n",
    "import numpy as np\n",
    "import os\n",
    "from pymongo import MongoClient\n",
    "import glob\n",
    "import time\n",
    "import pandas as pd\n",
    "import numpy as np"
   ]
  },
  {
   "cell_type": "code",
   "execution_count": 7,
   "metadata": {},
   "outputs": [
    {
     "name": "stdout",
     "output_type": "stream",
     "text": [
      "['FloodDetection', 'admin', 'config', 'local']\n"
     ]
    }
   ],
   "source": [
    "cluster = \"mongodb://localhost:27017\"\n",
    "client = MongoClient(cluster)\n",
    "print(client.list_database_names())\n",
    "db = client.FloodDetection\n"
   ]
  },
  {
   "cell_type": "code",
   "execution_count": 17,
   "metadata": {},
   "outputs": [],
   "source": [
    "general = db.general.find()\n",
    "pixils = db.pixils.find()"
   ]
  },
  {
   "cell_type": "code",
   "execution_count": 18,
   "metadata": {},
   "outputs": [],
   "source": [
    "gen = pd.DataFrame(list(general)).head(20000)\n",
    "pix = pd.DataFrame(list(pixils)).head(20000)"
   ]
  },
  {
   "cell_type": "code",
   "execution_count": 21,
   "metadata": {},
   "outputs": [
    {
     "data": {
      "text/html": [
       "<div>\n",
       "<style scoped>\n",
       "    .dataframe tbody tr th:only-of-type {\n",
       "        vertical-align: middle;\n",
       "    }\n",
       "\n",
       "    .dataframe tbody tr th {\n",
       "        vertical-align: top;\n",
       "    }\n",
       "\n",
       "    .dataframe thead th {\n",
       "        text-align: right;\n",
       "    }\n",
       "</style>\n",
       "<table border=\"1\" class=\"dataframe\">\n",
       "  <thead>\n",
       "    <tr style=\"text-align: right;\">\n",
       "      <th></th>\n",
       "      <th>_id</th>\n",
       "      <th>frame number</th>\n",
       "      <th>number of pixel</th>\n",
       "    </tr>\n",
       "  </thead>\n",
       "  <tbody>\n",
       "    <tr>\n",
       "      <th>0</th>\n",
       "      <td>62ddfebb30e004f3f2f9b0bd</td>\n",
       "      <td>0</td>\n",
       "      <td>0</td>\n",
       "    </tr>\n",
       "    <tr>\n",
       "      <th>1</th>\n",
       "      <td>62ddfebb30e004f3f2f9b0be</td>\n",
       "      <td>1</td>\n",
       "      <td>0</td>\n",
       "    </tr>\n",
       "    <tr>\n",
       "      <th>2</th>\n",
       "      <td>62ddfebb30e004f3f2f9b0bf</td>\n",
       "      <td>2</td>\n",
       "      <td>0</td>\n",
       "    </tr>\n",
       "    <tr>\n",
       "      <th>3</th>\n",
       "      <td>62ddfebb30e004f3f2f9b0c0</td>\n",
       "      <td>3</td>\n",
       "      <td>0</td>\n",
       "    </tr>\n",
       "    <tr>\n",
       "      <th>4</th>\n",
       "      <td>62ddfebb30e004f3f2f9b0c1</td>\n",
       "      <td>4</td>\n",
       "      <td>0</td>\n",
       "    </tr>\n",
       "  </tbody>\n",
       "</table>\n",
       "</div>"
      ],
      "text/plain": [
       "                        _id  frame number  number of pixel\n",
       "0  62ddfebb30e004f3f2f9b0bd             0                0\n",
       "1  62ddfebb30e004f3f2f9b0be             1                0\n",
       "2  62ddfebb30e004f3f2f9b0bf             2                0\n",
       "3  62ddfebb30e004f3f2f9b0c0             3                0\n",
       "4  62ddfebb30e004f3f2f9b0c1             4                0"
      ]
     },
     "execution_count": 21,
     "metadata": {},
     "output_type": "execute_result"
    }
   ],
   "source": [
    "pix.head()"
   ]
  },
  {
   "cell_type": "code",
   "execution_count": 20,
   "metadata": {},
   "outputs": [
    {
     "data": {
      "text/html": [
       "<div>\n",
       "<style scoped>\n",
       "    .dataframe tbody tr th:only-of-type {\n",
       "        vertical-align: middle;\n",
       "    }\n",
       "\n",
       "    .dataframe tbody tr th {\n",
       "        vertical-align: top;\n",
       "    }\n",
       "\n",
       "    .dataframe thead th {\n",
       "        text-align: right;\n",
       "    }\n",
       "</style>\n",
       "<table border=\"1\" class=\"dataframe\">\n",
       "  <thead>\n",
       "    <tr style=\"text-align: right;\">\n",
       "      <th></th>\n",
       "      <th>_id</th>\n",
       "      <th>frame number</th>\n",
       "      <th>time</th>\n",
       "      <th>path</th>\n",
       "    </tr>\n",
       "  </thead>\n",
       "  <tbody>\n",
       "    <tr>\n",
       "      <th>0</th>\n",
       "      <td>62de6c743afa6df9ee89c840</td>\n",
       "      <td>0</td>\n",
       "      <td>03:17:30</td>\n",
       "      <td>C:\\Users\\Stephens\\Desktop\\flood_pred\\total_fra...</td>\n",
       "    </tr>\n",
       "    <tr>\n",
       "      <th>1</th>\n",
       "      <td>62de6c743afa6df9ee89c841</td>\n",
       "      <td>1</td>\n",
       "      <td>03:17:30</td>\n",
       "      <td>C:\\Users\\Stephens\\Desktop\\flood_pred\\total_fra...</td>\n",
       "    </tr>\n",
       "    <tr>\n",
       "      <th>2</th>\n",
       "      <td>62de6c743afa6df9ee89c842</td>\n",
       "      <td>2</td>\n",
       "      <td>03:17:30</td>\n",
       "      <td>C:\\Users\\Stephens\\Desktop\\flood_pred\\total_fra...</td>\n",
       "    </tr>\n",
       "    <tr>\n",
       "      <th>3</th>\n",
       "      <td>62de6c743afa6df9ee89c843</td>\n",
       "      <td>3</td>\n",
       "      <td>03:17:30</td>\n",
       "      <td>C:\\Users\\Stephens\\Desktop\\flood_pred\\total_fra...</td>\n",
       "    </tr>\n",
       "    <tr>\n",
       "      <th>4</th>\n",
       "      <td>62de6c753afa6df9ee89c844</td>\n",
       "      <td>4</td>\n",
       "      <td>03:17:30</td>\n",
       "      <td>C:\\Users\\Stephens\\Desktop\\flood_pred\\total_fra...</td>\n",
       "    </tr>\n",
       "  </tbody>\n",
       "</table>\n",
       "</div>"
      ],
      "text/plain": [
       "                        _id  frame number      time  \\\n",
       "0  62de6c743afa6df9ee89c840             0  03:17:30   \n",
       "1  62de6c743afa6df9ee89c841             1  03:17:30   \n",
       "2  62de6c743afa6df9ee89c842             2  03:17:30   \n",
       "3  62de6c743afa6df9ee89c843             3  03:17:30   \n",
       "4  62de6c753afa6df9ee89c844             4  03:17:30   \n",
       "\n",
       "                                                path  \n",
       "0  C:\\Users\\Stephens\\Desktop\\flood_pred\\total_fra...  \n",
       "1  C:\\Users\\Stephens\\Desktop\\flood_pred\\total_fra...  \n",
       "2  C:\\Users\\Stephens\\Desktop\\flood_pred\\total_fra...  \n",
       "3  C:\\Users\\Stephens\\Desktop\\flood_pred\\total_fra...  \n",
       "4  C:\\Users\\Stephens\\Desktop\\flood_pred\\total_fra...  "
      ]
     },
     "execution_count": 20,
     "metadata": {},
     "output_type": "execute_result"
    }
   ],
   "source": [
    "gen.head()"
   ]
  },
  {
   "cell_type": "code",
   "execution_count": 24,
   "metadata": {},
   "outputs": [],
   "source": [
    "df = pd.merge(gen, pix, how=\"inner\", on=\"frame number\")[['frame number', 'time', 'path', 'number of pixel']]"
   ]
  },
  {
   "cell_type": "code",
   "execution_count": null,
   "metadata": {},
   "outputs": [],
   "source": []
  }
 ],
 "metadata": {
  "kernelspec": {
   "display_name": "Python 3.10.2 ('opencv': venv)",
   "language": "python",
   "name": "python3"
  },
  "language_info": {
   "codemirror_mode": {
    "name": "ipython",
    "version": 3
   },
   "file_extension": ".py",
   "mimetype": "text/x-python",
   "name": "python",
   "nbconvert_exporter": "python",
   "pygments_lexer": "ipython3",
   "version": "3.10.2"
  },
  "orig_nbformat": 4,
  "vscode": {
   "interpreter": {
    "hash": "06f10067c6576b76785efdd900eda063cf9a43879120d20779433bad75fa6853"
   }
  }
 },
 "nbformat": 4,
 "nbformat_minor": 2
}
